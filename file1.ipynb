{
 "cells": [
  {
   "cell_type": "code",
   "execution_count": 7,
   "id": "08b15401-ff20-44c8-ad7e-4dc8423618fe",
   "metadata": {},
   "outputs": [],
   "source": [
    "x = 5"
   ]
  },
  {
   "cell_type": "code",
   "execution_count": null,
   "id": "ca535874-3aaa-4e69-8f4e-173fb6a4be31",
   "metadata": {},
   "outputs": [],
   "source": []
  },
  {
   "cell_type": "code",
   "execution_count": 7,
   "id": "de854412-a192-4866-9730-ec5a4dd21e78",
   "metadata": {},
   "outputs": [],
   "source": [
    "x = 5"
   ]
  },
  {
   "cell_type": "code",
   "execution_count": 7,
   "id": "68e05ddc-8192-4f74-a4f4-dabc01a48d3b",
   "metadata": {},
   "outputs": [],
   "source": [
    "x = 5"
   ]
  },
  {
   "cell_type": "code",
   "execution_count": 7,
   "id": "eb041104-0d2e-4d86-803e-6a58b9bab2ef",
   "metadata": {},
   "outputs": [],
   "source": [
    "x = 5"
   ]
  },
  {
   "cell_type": "markdown",
   "id": "9984f567-ef56-43c3-85ff-1211fd879bd3",
   "metadata": {},
   "source": [
    "## This is a heading level 2\n",
    "this is just extra text\n",
    "- these are bullet points\n",
    "- **bold**\n",
    "- *italics*"
   ]
  },
  {
   "cell_type": "markdown",
   "id": "906a8e62-e516-4141-99f7-780996a3418c",
   "metadata": {},
   "source": [
    "$$ two dollar signs for math"
   ]
  },
  {
   "cell_type": "code",
   "execution_count": null,
   "id": "5b05b3c9-2012-411b-b7ca-357c071646c0",
   "metadata": {},
   "outputs": [],
   "source": []
  }
 ],
 "metadata": {
  "kernelspec": {
   "display_name": "Python 3 (ipykernel)",
   "language": "python",
   "name": "python3"
  },
  "language_info": {
   "codemirror_mode": {
    "name": "ipython",
    "version": 3
   },
   "file_extension": ".py",
   "mimetype": "text/x-python",
   "name": "python",
   "nbconvert_exporter": "python",
   "pygments_lexer": "ipython3",
   "version": "3.9.12"
  }
 },
 "nbformat": 4,
 "nbformat_minor": 5
}
